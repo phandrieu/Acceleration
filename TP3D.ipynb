{
 "cells": [
  {
   "cell_type": "markdown",
   "metadata": {},
   "source": [
    "# TP Accéléromètre - Version 3D"
   ]
  },
  {
   "cell_type": "markdown",
   "metadata": {},
   "source": [
    "### Import des bibliothèques"
   ]
  },
  {
   "cell_type": "code",
   "execution_count": 1,
   "metadata": {},
   "outputs": [],
   "source": [
    "import math\n",
    "import numpy as np\n",
    "import matplotlib.pyplot as plt\n",
    "from mpl_toolkits.mplot3d import Axes3D"
   ]
  },
  {
   "cell_type": "markdown",
   "metadata": {},
   "source": [
    "### Récupération des lignes du fichier"
   ]
  },
  {
   "cell_type": "code",
   "execution_count": 2,
   "metadata": {},
   "outputs": [],
   "source": [
    "fileName = \"./Aller-Retour3D.csv\"\n",
    "file = open(fileName, 'r')\n",
    "fileLines = list(file)\n",
    "file.close()\n"
   ]
  },
  {
   "cell_type": "markdown",
   "metadata": {},
   "source": [
    "### Extraction des données"
   ]
  },
  {
   "cell_type": "code",
   "execution_count": 3,
   "metadata": {},
   "outputs": [],
   "source": [
    "t, ax, ay, az = [], [], [], []\n",
    "vx, vy, vz= [0],[0],[0]\n",
    "x, y ,z= [0], [0],[0]\n",
    "\n",
    "for i in range(2, len(fileLines)):\n",
    "    currentLine = fileLines[i].rstrip()\n",
    "    data = currentLine.split(\";\")\n",
    "    t.append(float(data[0]))\n",
    "    ax.append(float(data[1]))\n",
    "    ay.append(float(data[2]))\n",
    "    az.append(float(data[3]))"
   ]
  },
  {
   "cell_type": "markdown",
   "metadata": {},
   "source": [
    "### Correction des données en soustrayant la moyenne des données obtenues"
   ]
  },
  {
   "cell_type": "code",
   "execution_count": 4,
   "metadata": {},
   "outputs": [],
   "source": [
    "meanx = sum(ax)/len(ax)\n",
    "meany = sum(ay)/len(ay)\n",
    "meanz = sum(az)/len(az)\n",
    "\n",
    "for i in range(len(t)):\n",
    "    ax[i] = ax[i]-meanx\n",
    "    ay[i] = ay[i]-meany\n",
    "    az[i] = az[i]-meanz"
   ]
  },
  {
   "cell_type": "markdown",
   "metadata": {},
   "source": [
    "### Méthode d'Euler : Primitivation de l'accélération puis de la vitesse"
   ]
  },
  {
   "cell_type": "code",
   "execution_count": 5,
   "metadata": {},
   "outputs": [
    {
     "data": {
      "image/png": "[encoded data removed]",
      "text/plain": [
       "<Figure size 432x288 with 1 Axes>"
      ]
     },
     "metadata": {
      "needs_background": "light"
     },
     "output_type": "display_data"
    }
   ],
   "source": [
    "for i in range(1, len(t)):\n",
    "    vx.append((t[i]-t[i-1])*ax[i]+vx[i-1])\n",
    "    vy.append((t[i]-t[i-1])*ay[i]+vy[i-1])\n",
    "    vz.append((t[i]-t[i-1])*az[i]+vz[i-1])\n",
    "\n",
    "for i in range(1, len(t)):\n",
    "    x.append((t[i]-t[i-1])*vx[i]+x[i-1])\n",
    "    y.append((t[i]-t[i-1])*vy[i]+y[i-1])\n",
    "    z.append((t[i]-t[i-1])*vz[i]+z[i-1])\n",
    "\n",
    "fig = plt.figure()\n",
    "ax = fig.add_subplot(projection='3d')\n",
    "\n",
    "\n",
    "for i in range(len(x)):\n",
    "    ax.scatter(x[i], y[i], z[i])\n",
    "\n",
    "ax.set_xlabel('X')\n",
    "ax.set_ylabel('Y')\n",
    "ax.set_zlabel('Z')\n",
    "\n",
    "ax.set_box_aspect((np.ptp(x), np.ptp(y), np.ptp(z))) \n",
    "\n",
    "plt.show()"
   ]
  },
  {
   "cell_type": "markdown",
   "metadata": {},
   "source": [
    "### Calcul de la distance"
   ]
  },
  {
   "cell_type": "code",
   "execution_count": 6,
   "metadata": {},
   "outputs": [
    {
     "name": "stdout",
     "output_type": "stream",
     "text": [
      "0.9426728103619246\n"
     ]
    }
   ],
   "source": [
    "xmax = max(x)\n",
    "ymax = max(y)\n",
    "d = (math.sqrt(xmax**2 + ymax**2))\n",
    "print(d)"
   ]
  }
 ],
 "metadata": {
  "kernelspec": {
   "display_name": "Python 3.10.4 64-bit",
   "language": "python",
   "name": "python3"
  },
  "language_info": {
   "codemirror_mode": {
    "name": "ipython",
    "version": 3
   },
   "file_extension": ".py",
   "mimetype": "text/x-python",
   "name": "python",
   "nbconvert_exporter": "python",
   "pygments_lexer": "ipython3",
   "version": "3.10.4"
  },
  "orig_nbformat": 4,
  "vscode": {
   "interpreter": {
    "hash": "4f946df053fbf2b937619d3c5458e7af74262f9a954d8797ba0b27400bcafe06"
   }
  }
 },
 "nbformat": 4,
 "nbformat_minor": 2
}
