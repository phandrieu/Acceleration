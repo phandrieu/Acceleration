{
 "cells": [
  {
   "cell_type": "code",
   "execution_count": 1,
   "metadata": {},
   "outputs": [],
   "source": [
    "import math\n",
    "import matplotlib.pyplot as plt"
   ]
  },
  {
   "cell_type": "code",
   "execution_count": 2,
   "metadata": {},
   "outputs": [],
   "source": [
    "fileName = \"./Aller-Retour.csv\"\n",
    "file = open(fileName, 'r')\n",
    "fileLines = list(file)\n",
    "file.close()\n",
    "\n",
    "t, ax, ay = [], [], []\n",
    "\n",
    "for i in range(2, len(fileLines)):\n",
    "    currentLine = fileLines[i].rstrip()\n",
    "    data = currentLine.split(\";\")\n",
    "    t.append(float(data[0]))\n",
    "    ax.append(float(data[1]))\n",
    "    ay.append(float(data[2]))"
   ]
  }
 ],
 "metadata": {
  "kernelspec": {
   "display_name": "Python 3.10.4 64-bit",
   "language": "python",
   "name": "python3"
  },
  "language_info": {
   "codemirror_mode": {
    "name": "ipython",
    "version": 3
   },
   "file_extension": ".py",
   "mimetype": "text/x-python",
   "name": "python",
   "nbconvert_exporter": "python",
   "pygments_lexer": "ipython3",
   "version": "3.10.4"
  },
  "orig_nbformat": 4,
  "vscode": {
   "interpreter": {
    "hash": "4f946df053fbf2b937619d3c5458e7af74262f9a954d8797ba0b27400bcafe06"
   }
  }
 },
 "nbformat": 4,
 "nbformat_minor": 2
}
